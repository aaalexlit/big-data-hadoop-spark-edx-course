{
  "nbformat": 4,
  "nbformat_minor": 0,
  "metadata": {
    "colab": {
      "provenance": [],
      "authorship_tag": "ABX9TyM/2XasmgDIznJmfMlbOtDC",
      "include_colab_link": true
    },
    "kernelspec": {
      "name": "python3",
      "display_name": "Python 3"
    },
    "language_info": {
      "name": "python"
    }
  },
  "cells": [
    {
      "cell_type": "markdown",
      "metadata": {
        "id": "view-in-github",
        "colab_type": "text"
      },
      "source": [
        "<a href=\"https://colab.research.google.com/github/aaalexlit/big-data-hadoop-spark-edx-course/blob/main/course_1_custom_models/Week2_Building_a_Custom_Dense_Layer.ipynb\" target=\"_parent\"><img src=\"https://colab.research.google.com/assets/colab-badge.svg\" alt=\"Open In Colab\"/></a>"
      ]
    },
    {
      "cell_type": "markdown",
      "source": [
        "## Imports"
      ],
      "metadata": {
        "id": "1y2Ber2EQSih"
      }
    },
    {
      "cell_type": "code",
      "source": [
        "import tensorflow as tf\n",
        "import numpy as np\n",
        "from tensorflow.keras.layers import Layer\n",
        "from tensorflow.keras import Sequential"
      ],
      "metadata": {
        "id": "LHEOOrD_QyPS"
      },
      "execution_count": 1,
      "outputs": []
    },
    {
      "cell_type": "markdown",
      "source": [
        "1. Inherit the [Layer](https://keras.io/api/layers/base_layer/#layer-class) base class from Keras\n",
        "1. Implement `__init__` initialize properties\n",
        "1. Implement `build` called to initialize state\n",
        "1. Implement `call` called to make computation"
      ],
      "metadata": {
        "id": "V90cJEpaQ2HL"
      }
    },
    {
      "cell_type": "code",
      "source": [
        "class SimpleDense(Layer):\n",
        "\n",
        "\tdef __init__(self, units=32):\n",
        "\t\tsuper(SimpleDense, self).__init__()\n",
        "\t\tself.units = units\n",
        "\t\n",
        "\t# runs when an instance of Layer is created\n",
        "  # ie defines the initial State\n",
        "\tdef build(self, input_shape):\n",
        "\t\tw_init = tf.random_normal_initializer()\n",
        "\t\tself.w = tf.Variable(name=\"kernel\",\n",
        "\t\t\t\t\t\t\tinitial_value=w_init(shape=(input_shape[-1], self.units), dtype='float32'),\n",
        "\t\t\t\t\t\t\ttrainable=True)\n",
        "\t\tb_init = tf.zeros_initializer()\n",
        "\t\tself.b = tf.Variable(name=\"bias\",\n",
        "\t\t\t\t\t\t\tinitial_value=b_init(shape=(self.units,), dtype='float32'),\n",
        "\t\t\t\t\t\t\ttrainable=True)\n",
        "\t\n",
        "\t# Defines the Computation from inputs to outputs\n",
        "  # called during training\n",
        "\tdef call(self, inputs):\n",
        "\t\treturn tf.matmul(inputs, self.w) + self.b"
      ],
      "metadata": {
        "id": "UaH4EfTuR1FP"
      },
      "execution_count": 2,
      "outputs": []
    },
    {
      "cell_type": "markdown",
      "source": [
        "## Instantiate the layer"
      ],
      "metadata": {
        "id": "1ObIwIDcjrVI"
      }
    },
    {
      "cell_type": "code",
      "source": [
        "my_dense = SimpleDense(1)\n",
        "\n",
        "x = tf.ones((1,1))\n",
        "y = my_dense(x)\n",
        "\n",
        "# To see the initial weights\n",
        "print(my_dense.variables[0])\n",
        "print(my_dense.variables[1])"
      ],
      "metadata": {
        "colab": {
          "base_uri": "https://localhost:8080/"
        },
        "id": "0VQlNAkbj7Ny",
        "outputId": "40ee3d44-02ed-40af-be51-d58d0676ebc6"
      },
      "execution_count": 11,
      "outputs": [
        {
          "output_type": "stream",
          "name": "stdout",
          "text": [
            "<tf.Variable 'simple_dense_4/kernel:0' shape=(1, 1) dtype=float32, numpy=array([[-0.03488317]], dtype=float32)>\n",
            "<tf.Variable 'simple_dense_4/bias:0' shape=(1,) dtype=float32, numpy=array([0.], dtype=float32)>\n"
          ]
        }
      ]
    },
    {
      "cell_type": "markdown",
      "source": [
        "### The dataset"
      ],
      "metadata": {
        "id": "_L9t8UWekIV0"
      }
    },
    {
      "cell_type": "code",
      "source": [
        "xs = np.array([-1.0,  0.0, 1.0, 2.0, 3.0, 4.0], dtype=float).reshape(-1, 1)\n",
        "ys = np.array([-3.0, -1.0, 1.0, 3.0, 5.0, 7.0], dtype=float).reshape(-1, 1)"
      ],
      "metadata": {
        "id": "1iM4Xedm31ZF"
      },
      "execution_count": 12,
      "outputs": []
    },
    {
      "cell_type": "code",
      "source": [
        "model = Sequential([my_dense])\n",
        "\n",
        "model.compile(optimizer='sgd',\n",
        "              loss='mean_squared_error')\n",
        "model.fit(xs, ys, epochs=500, verbose=0)"
      ],
      "metadata": {
        "colab": {
          "base_uri": "https://localhost:8080/"
        },
        "id": "hBMahI0v32mO",
        "outputId": "bd0f1317-81ab-48c5-c9bc-175f02624729"
      },
      "execution_count": 13,
      "outputs": [
        {
          "output_type": "execute_result",
          "data": {
            "text/plain": [
              "<keras.callbacks.History at 0x7fd09d39bdc0>"
            ]
          },
          "metadata": {},
          "execution_count": 13
        }
      ]
    },
    {
      "cell_type": "code",
      "source": [
        "# perform inference\n",
        "print(model.predict([10.0]))\n",
        "\n",
        "# see the updated state of the variables\n",
        "print(my_dense.variables[0])\n",
        "print(my_dense.variables[1])"
      ],
      "metadata": {
        "colab": {
          "base_uri": "https://localhost:8080/"
        },
        "id": "Y5pUI9bWF8k9",
        "outputId": "0e6db344-d090-477b-f537-847c8c8a12fc"
      },
      "execution_count": 14,
      "outputs": [
        {
          "output_type": "stream",
          "name": "stdout",
          "text": [
            "1/1 [==============================] - 0s 47ms/step\n",
            "[[18.98137]]\n",
            "<tf.Variable 'simple_dense_4/kernel:0' shape=(1, 1) dtype=float32, numpy=array([[1.9973]], dtype=float32)>\n",
            "<tf.Variable 'simple_dense_4/bias:0' shape=(1,) dtype=float32, numpy=array([-0.99162906], dtype=float32)>\n"
          ]
        }
      ]
    },
    {
      "cell_type": "code",
      "source": [],
      "metadata": {
        "id": "BnAxTEE-F-T3"
      },
      "execution_count": 14,
      "outputs": []
    }
  ]
}