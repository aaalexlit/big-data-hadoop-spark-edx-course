{
  "nbformat": 4,
  "nbformat_minor": 0,
  "metadata": {
    "colab": {
      "provenance": [],
      "authorship_tag": "ABX9TyNHhFt52YR4tsfDjjNw11Lv",
      "include_colab_link": true
    },
    "kernelspec": {
      "name": "python3",
      "display_name": "Python 3"
    },
    "language_info": {
      "name": "python"
    }
  },
  "cells": [
    {
      "cell_type": "markdown",
      "metadata": {
        "id": "view-in-github",
        "colab_type": "text"
      },
      "source": [
        "<a href=\"https://colab.research.google.com/github/aaalexlit/big-data-hadoop-spark-edx-course/blob/main/course_1_custom_models/Week4_Wide_and_Deep_Model.ipynb\" target=\"_parent\"><img src=\"https://colab.research.google.com/assets/colab-badge.svg\" alt=\"Open In Colab\"/></a>"
      ]
    },
    {
      "cell_type": "code",
      "execution_count": 1,
      "metadata": {
        "id": "05gktLUPDENC"
      },
      "outputs": [],
      "source": [
        "import tensorflow as tf\n",
        "from tensorflow.keras import Model\n",
        "from tensorflow.keras.layers import Dense, concatenate, Input\n",
        "from tensorflow.keras.utils import plot_model"
      ]
    },
    {
      "cell_type": "markdown",
      "source": [
        "# Build a model with the functional API"
      ],
      "metadata": {
        "id": "yDjMHifBDjYK"
      }
    },
    {
      "cell_type": "code",
      "source": [
        "# model inputs\n",
        "input_wide = Input(shape=[1], name=\"Wide_Input\")\n",
        "input_deep = Input(shape=[1], name=\"Deep_Input\")\n",
        "\n",
        "# deep path\n",
        "hidden_1 = Dense(30, activation=\"relu\", name=\"Hidden_1\")(input_deep)\n",
        "hidden_2 = Dense(30, activation=\"relu\", name=\"Hidden_2\")(hidden_1)\n",
        "\n",
        "# merge deep and wide path\n",
        "concat = concatenate([input_wide, hidden_2], name=\"Merge\")\n",
        "output = Dense(1, name=\"Output\")(concat)\n",
        "\n",
        "# additional output from the deep path\n",
        "aux_output = Dense(1, name=\"aux_Output\")(hidden_2)\n",
        "\n",
        "# combine inputs and outputs into a model\n",
        "model = Model(inputs=[input_wide, input_deep], \n",
        "\t\t\t\t\t\t\toutputs=[output, aux_output])\n",
        "\n",
        "# plot the model\n",
        "plot_model(model)"
      ],
      "metadata": {
        "colab": {
          "base_uri": "https://localhost:8080/",
          "height": 466
        },
        "id": "TtxZ9fFFDx5a",
        "outputId": "215fe31c-c5a2-409e-a9bf-f6646401bf4e"
      },
      "execution_count": 6,
      "outputs": [
        {
          "output_type": "execute_result",
          "data": {
            "image/png": "[encoded data removed]",
            "text/plain": [
              "<IPython.core.display.Image object>"
            ]
          },
          "metadata": {},
          "execution_count": 6
        }
      ]
    },
    {
      "cell_type": "markdown",
      "source": [
        "# The same model implemented as a Class\n",
        "\n",
        "It's required to implement the following methods:\n",
        "- `__init__`  initialize the instance attributes\n",
        "- `call` builds the network and returns the output layers"
      ],
      "metadata": {
        "id": "bS0dwMTAEMHZ"
      }
    },
    {
      "cell_type": "code",
      "source": [
        "class WideAndDeepModel(Model):\n",
        "\tdef __init__(self, units=30, activation='relu', **kwargs):\n",
        "\t\tsuper().__init__(**kwargs)\n",
        "\t\tself.hidden1 = Dense(units, activation=activation)\n",
        "\t\tself.hidden2 = Dense(units, activation=activation)\n",
        "\t\tself.main_output_layer = Dense(1)\n",
        "\t\tself.aux_output_layer = Dense(1)\n",
        "\n",
        "\n",
        "\tdef call(self, inputs):\n",
        "\t\tinput_wide, input_deep = inputs\n",
        "\t\thidden1_out = self.hidden1(input_deep)\n",
        "\t\thidden2_out = self.hidden2(hidden1_out)\n",
        "\t\tconcat = concatenate([input_wide, hidden2_out])\n",
        "\t\tmain_output = self.main_output_layer(concat)\n",
        "\t\taux_output = self.aux_output_layer(hidden2_out)\n",
        "\t\treturn main_output, aux_output"
      ],
      "metadata": {
        "id": "v9XjpKHvFALT"
      },
      "execution_count": 7,
      "outputs": []
    },
    {
      "cell_type": "code",
      "source": [
        "model = WideAndDeepModel()"
      ],
      "metadata": {
        "id": "9B6tzFzQFG85"
      },
      "execution_count": 8,
      "outputs": []
    },
    {
      "cell_type": "code",
      "source": [],
      "metadata": {
        "id": "ch9AwY9fFIoZ"
      },
      "execution_count": 8,
      "outputs": []
    }
  ]
}